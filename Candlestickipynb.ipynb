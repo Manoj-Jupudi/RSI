{
  "nbformat": 4,
  "nbformat_minor": 0,
  "metadata": {
    "colab": {
      "name": "Candlestickipynb",
      "provenance": [],
      "collapsed_sections": []
    },
    "kernelspec": {
      "name": "python3",
      "display_name": "Python 3"
    },
    "language_info": {
      "name": "python"
    }
  },
  "cells": [
    {
      "cell_type": "code",
      "metadata": {
        "id": "VqX0yCzu9nBA"
      },
      "source": [
        "###Importing Libraries\n",
        "import pandas as pd\n",
        "import datetime as dt\n",
        "import pandas_datareader as web\n",
        "import matplotlib.pyplot as plt\n",
        "from matplotlib import style\n",
        "import matplotlib.dates as mdates\n",
        "import plotly.graph_objects as go\n",
        "style.use('ggplot')"
      ],
      "execution_count": 5,
      "outputs": []
    },
    {
      "cell_type": "code",
      "metadata": {
        "id": "OAhz21fQ8JjA"
      },
      "source": [
        "start=dt.datetime(2020,1,1)\n",
        "end=dt.datetime.now()"
      ],
      "execution_count": 6,
      "outputs": []
    },
    {
      "cell_type": "code",
      "metadata": {
        "id": "n7QH_ArV90PZ"
      },
      "source": [
        "###This is a tiingo key you will find this in the tiingo documentation\n",
        "key='*********************************'"
      ],
      "execution_count": null,
      "outputs": []
    },
    {
      "cell_type": "code",
      "metadata": {
        "id": "VXNQju1jQSpz"
      },
      "source": [
        "###Read the Data\n",
        "df=web.get_data_tiingo(['AAPL'],api_key=key)"
      ],
      "execution_count": null,
      "outputs": []
    },
    {
      "cell_type": "code",
      "metadata": {
        "colab": {
          "base_uri": "https://localhost:8080/",
          "height": 226
        },
        "id": "Cn3UQ1ui1hn7",
        "outputId": "2d7f1027-dcff-4151-c71e-7b4840098c6b"
      },
      "source": [
        "df.head()"
      ],
      "execution_count": 8,
      "outputs": [
        {
          "output_type": "execute_result",
          "data": {
            "text/html": [
              "<div>\n",
              "<style scoped>\n",
              "    .dataframe tbody tr th:only-of-type {\n",
              "        vertical-align: middle;\n",
              "    }\n",
              "\n",
              "    .dataframe tbody tr th {\n",
              "        vertical-align: top;\n",
              "    }\n",
              "\n",
              "    .dataframe thead th {\n",
              "        text-align: right;\n",
              "    }\n",
              "</style>\n",
              "<table border=\"1\" class=\"dataframe\">\n",
              "  <thead>\n",
              "    <tr style=\"text-align: right;\">\n",
              "      <th></th>\n",
              "      <th>symbol</th>\n",
              "      <th>close</th>\n",
              "      <th>high</th>\n",
              "      <th>low</th>\n",
              "      <th>open</th>\n",
              "      <th>volume</th>\n",
              "    </tr>\n",
              "    <tr>\n",
              "      <th>date</th>\n",
              "      <th></th>\n",
              "      <th></th>\n",
              "      <th></th>\n",
              "      <th></th>\n",
              "      <th></th>\n",
              "      <th></th>\n",
              "    </tr>\n",
              "  </thead>\n",
              "  <tbody>\n",
              "    <tr>\n",
              "      <th>2016-07-05 00:00:00+00:00</th>\n",
              "      <td>AAPL</td>\n",
              "      <td>94.99</td>\n",
              "      <td>95.40</td>\n",
              "      <td>94.46</td>\n",
              "      <td>95.39</td>\n",
              "      <td>27705210</td>\n",
              "    </tr>\n",
              "    <tr>\n",
              "      <th>2016-07-06 00:00:00+00:00</th>\n",
              "      <td>AAPL</td>\n",
              "      <td>95.53</td>\n",
              "      <td>95.66</td>\n",
              "      <td>94.37</td>\n",
              "      <td>94.60</td>\n",
              "      <td>30949090</td>\n",
              "    </tr>\n",
              "    <tr>\n",
              "      <th>2016-07-07 00:00:00+00:00</th>\n",
              "      <td>AAPL</td>\n",
              "      <td>95.94</td>\n",
              "      <td>96.50</td>\n",
              "      <td>95.62</td>\n",
              "      <td>95.70</td>\n",
              "      <td>25139558</td>\n",
              "    </tr>\n",
              "    <tr>\n",
              "      <th>2016-07-08 00:00:00+00:00</th>\n",
              "      <td>AAPL</td>\n",
              "      <td>96.68</td>\n",
              "      <td>96.89</td>\n",
              "      <td>96.05</td>\n",
              "      <td>96.49</td>\n",
              "      <td>28912103</td>\n",
              "    </tr>\n",
              "    <tr>\n",
              "      <th>2016-07-11 00:00:00+00:00</th>\n",
              "      <td>AAPL</td>\n",
              "      <td>96.98</td>\n",
              "      <td>97.65</td>\n",
              "      <td>96.73</td>\n",
              "      <td>96.75</td>\n",
              "      <td>23794945</td>\n",
              "    </tr>\n",
              "  </tbody>\n",
              "</table>\n",
              "</div>"
            ],
            "text/plain": [
              "                          symbol  close   high    low   open    volume\n",
              "date                                                                  \n",
              "2016-07-05 00:00:00+00:00   AAPL  94.99  95.40  94.46  95.39  27705210\n",
              "2016-07-06 00:00:00+00:00   AAPL  95.53  95.66  94.37  94.60  30949090\n",
              "2016-07-07 00:00:00+00:00   AAPL  95.94  96.50  95.62  95.70  25139558\n",
              "2016-07-08 00:00:00+00:00   AAPL  96.68  96.89  96.05  96.49  28912103\n",
              "2016-07-11 00:00:00+00:00   AAPL  96.98  97.65  96.73  96.75  23794945"
            ]
          },
          "metadata": {
            "tags": []
          },
          "execution_count": 8
        }
      ]
    },
    {
      "cell_type": "code",
      "metadata": {
        "colab": {
          "base_uri": "https://localhost:8080/"
        },
        "id": "620hoB-p1jfq",
        "outputId": "0b14a583-4194-4266-fe39-0c649b0ab913"
      },
      "source": [
        "df.shape"
      ],
      "execution_count": 10,
      "outputs": [
        {
          "output_type": "execute_result",
          "data": {
            "text/plain": [
              "(1259, 6)"
            ]
          },
          "metadata": {
            "tags": []
          },
          "execution_count": 10
        }
      ]
    },
    {
      "cell_type": "code",
      "metadata": {
        "id": "TFedlNGG1rw6"
      },
      "source": [
        "###Dropping the unnecessary Columns\n",
        "df.drop(['adjClose','adjHigh','adjLow','adjOpen','adjVolume','divCash','splitFactor','symbol'],axis=1,inplace=True)"
      ],
      "execution_count": null,
      "outputs": []
    },
    {
      "cell_type": "code",
      "metadata": {
        "id": "cyqXoBq-8kM6"
      },
      "source": [
        "### Converting to a csv file\n",
        "df.to_csv('data.csv')"
      ],
      "execution_count": null,
      "outputs": []
    },
    {
      "cell_type": "code",
      "metadata": {
        "colab": {
          "base_uri": "https://localhost:8080/",
          "height": 272
        },
        "id": "rQrumvoO2WFy",
        "outputId": "314705cb-109c-41b2-b565-d7be02d10759"
      },
      "source": [
        "### Normal Plotting\n",
        "df['close'].plot()\n",
        "plt.xlabel(\"Dates\")\n",
        "plt.show()"
      ],
      "execution_count": 11,
      "outputs": [
        {
          "output_type": "display_data",
          "data": {
            "image/png": "[encoded data removed]",
            "text/plain": [
              "<Figure size 432x288 with 1 Axes>"
            ]
          },
          "metadata": {
            "tags": []
          }
        }
      ]
    },
    {
      "cell_type": "code",
      "metadata": {
        "id": "OFF6VcOp8nmm"
      },
      "source": [
        "df=pd.read_csv('data.csv',parse_dates=True,index_col=1)"
      ],
      "execution_count": null,
      "outputs": []
    },
    {
      "cell_type": "code",
      "metadata": {
        "colab": {
          "base_uri": "https://localhost:8080/",
          "height": 226
        },
        "id": "yKVV8jTt8npB",
        "outputId": "e2182037-58b0-4526-cb1c-6a5b1c5b966a"
      },
      "source": [
        "df.head()"
      ],
      "execution_count": null,
      "outputs": [
        {
          "output_type": "execute_result",
          "data": {
            "text/html": [
              "<div>\n",
              "<style scoped>\n",
              "    .dataframe tbody tr th:only-of-type {\n",
              "        vertical-align: middle;\n",
              "    }\n",
              "\n",
              "    .dataframe tbody tr th {\n",
              "        vertical-align: top;\n",
              "    }\n",
              "\n",
              "    .dataframe thead th {\n",
              "        text-align: right;\n",
              "    }\n",
              "</style>\n",
              "<table border=\"1\" class=\"dataframe\">\n",
              "  <thead>\n",
              "    <tr style=\"text-align: right;\">\n",
              "      <th></th>\n",
              "      <th>symbol</th>\n",
              "      <th>close</th>\n",
              "      <th>high</th>\n",
              "      <th>low</th>\n",
              "      <th>open</th>\n",
              "      <th>volume</th>\n",
              "    </tr>\n",
              "    <tr>\n",
              "      <th>date</th>\n",
              "      <th></th>\n",
              "      <th></th>\n",
              "      <th></th>\n",
              "      <th></th>\n",
              "      <th></th>\n",
              "      <th></th>\n",
              "    </tr>\n",
              "  </thead>\n",
              "  <tbody>\n",
              "    <tr>\n",
              "      <th>2016-07-05 00:00:00+00:00</th>\n",
              "      <td>AAPL</td>\n",
              "      <td>94.99</td>\n",
              "      <td>95.40</td>\n",
              "      <td>94.46</td>\n",
              "      <td>95.39</td>\n",
              "      <td>27705210</td>\n",
              "    </tr>\n",
              "    <tr>\n",
              "      <th>2016-07-06 00:00:00+00:00</th>\n",
              "      <td>AAPL</td>\n",
              "      <td>95.53</td>\n",
              "      <td>95.66</td>\n",
              "      <td>94.37</td>\n",
              "      <td>94.60</td>\n",
              "      <td>30949090</td>\n",
              "    </tr>\n",
              "    <tr>\n",
              "      <th>2016-07-07 00:00:00+00:00</th>\n",
              "      <td>AAPL</td>\n",
              "      <td>95.94</td>\n",
              "      <td>96.50</td>\n",
              "      <td>95.62</td>\n",
              "      <td>95.70</td>\n",
              "      <td>25139558</td>\n",
              "    </tr>\n",
              "    <tr>\n",
              "      <th>2016-07-08 00:00:00+00:00</th>\n",
              "      <td>AAPL</td>\n",
              "      <td>96.68</td>\n",
              "      <td>96.89</td>\n",
              "      <td>96.05</td>\n",
              "      <td>96.49</td>\n",
              "      <td>28912103</td>\n",
              "    </tr>\n",
              "    <tr>\n",
              "      <th>2016-07-11 00:00:00+00:00</th>\n",
              "      <td>AAPL</td>\n",
              "      <td>96.98</td>\n",
              "      <td>97.65</td>\n",
              "      <td>96.73</td>\n",
              "      <td>96.75</td>\n",
              "      <td>23794945</td>\n",
              "    </tr>\n",
              "  </tbody>\n",
              "</table>\n",
              "</div>"
            ],
            "text/plain": [
              "                          symbol  close   high    low   open    volume\n",
              "date                                                                  \n",
              "2016-07-05 00:00:00+00:00   AAPL  94.99  95.40  94.46  95.39  27705210\n",
              "2016-07-06 00:00:00+00:00   AAPL  95.53  95.66  94.37  94.60  30949090\n",
              "2016-07-07 00:00:00+00:00   AAPL  95.94  96.50  95.62  95.70  25139558\n",
              "2016-07-08 00:00:00+00:00   AAPL  96.68  96.89  96.05  96.49  28912103\n",
              "2016-07-11 00:00:00+00:00   AAPL  96.98  97.65  96.73  96.75  23794945"
            ]
          },
          "metadata": {
            "tags": []
          },
          "execution_count": 46
        }
      ]
    },
    {
      "cell_type": "code",
      "metadata": {
        "id": "szmP3toa9AhV"
      },
      "source": [
        "### Claculating the 100 days Moving Average\n",
        "df['100ma']=df['close'].rolling(window=100,min_periods=0).mean()"
      ],
      "execution_count": 12,
      "outputs": []
    },
    {
      "cell_type": "code",
      "metadata": {
        "colab": {
          "base_uri": "https://localhost:8080/",
          "height": 281
        },
        "id": "HheKVVsU2hnP",
        "outputId": "c4e44491-06a1-4ecd-bf81-4304e09c3581"
      },
      "source": [
        "ax1= plt.subplot2grid((6,1),(0,0),rowspan=5,colspan=1)\n",
        "ax2=plt.subplot2grid((6,1),(5,0),rowspan=1,colspan=1, sharex=ax1)\n",
        "\n",
        "ax1.plot(df.index,df['close'])\n",
        "ax1.plot(df.index,df['100ma'])\n",
        "\n",
        "ax2.bar(df.index,df['volume'])"
      ],
      "execution_count": 13,
      "outputs": [
        {
          "output_type": "execute_result",
          "data": {
            "text/plain": [
              "<BarContainer object of 1259 artists>"
            ]
          },
          "metadata": {
            "tags": []
          },
          "execution_count": 13
        },
        {
          "output_type": "display_data",
          "data": {
            "image/png": "[encoded data removed]",
            "text/plain": [
              "<Figure size 432x288 with 2 Axes>"
            ]
          },
          "metadata": {
            "tags": []
          }
        }
      ]
    },
    {
      "cell_type": "code",
      "metadata": {
        "id": "xeLuV-f5EOPj"
      },
      "source": [
        "### Creating an OHLC dataframe\n",
        "df_oh=df['close'].resample('10D').ohlc()"
      ],
      "execution_count": 14,
      "outputs": []
    },
    {
      "cell_type": "code",
      "metadata": {
        "colab": {
          "base_uri": "https://localhost:8080/",
          "height": 226
        },
        "id": "9N4vfWAQEh5O",
        "outputId": "400d0dab-79b5-46bd-a8eb-abf5d35ad91b"
      },
      "source": [
        "df_oh.head()"
      ],
      "execution_count": 15,
      "outputs": [
        {
          "output_type": "execute_result",
          "data": {
            "text/html": [
              "<div>\n",
              "<style scoped>\n",
              "    .dataframe tbody tr th:only-of-type {\n",
              "        vertical-align: middle;\n",
              "    }\n",
              "\n",
              "    .dataframe tbody tr th {\n",
              "        vertical-align: top;\n",
              "    }\n",
              "\n",
              "    .dataframe thead th {\n",
              "        text-align: right;\n",
              "    }\n",
              "</style>\n",
              "<table border=\"1\" class=\"dataframe\">\n",
              "  <thead>\n",
              "    <tr style=\"text-align: right;\">\n",
              "      <th></th>\n",
              "      <th>open</th>\n",
              "      <th>high</th>\n",
              "      <th>low</th>\n",
              "      <th>close</th>\n",
              "    </tr>\n",
              "    <tr>\n",
              "      <th>date</th>\n",
              "      <th></th>\n",
              "      <th></th>\n",
              "      <th></th>\n",
              "      <th></th>\n",
              "    </tr>\n",
              "  </thead>\n",
              "  <tbody>\n",
              "    <tr>\n",
              "      <th>2016-07-05 00:00:00+00:00</th>\n",
              "      <td>94.99</td>\n",
              "      <td>98.79</td>\n",
              "      <td>94.99</td>\n",
              "      <td>98.79</td>\n",
              "    </tr>\n",
              "    <tr>\n",
              "      <th>2016-07-15 00:00:00+00:00</th>\n",
              "      <td>98.78</td>\n",
              "      <td>99.96</td>\n",
              "      <td>98.66</td>\n",
              "      <td>98.66</td>\n",
              "    </tr>\n",
              "    <tr>\n",
              "      <th>2016-07-25 00:00:00+00:00</th>\n",
              "      <td>97.34</td>\n",
              "      <td>106.05</td>\n",
              "      <td>96.67</td>\n",
              "      <td>105.79</td>\n",
              "    </tr>\n",
              "    <tr>\n",
              "      <th>2016-08-04 00:00:00+00:00</th>\n",
              "      <td>105.87</td>\n",
              "      <td>108.81</td>\n",
              "      <td>105.87</td>\n",
              "      <td>108.18</td>\n",
              "    </tr>\n",
              "    <tr>\n",
              "      <th>2016-08-14 00:00:00+00:00</th>\n",
              "      <td>109.48</td>\n",
              "      <td>109.48</td>\n",
              "      <td>108.51</td>\n",
              "      <td>108.85</td>\n",
              "    </tr>\n",
              "  </tbody>\n",
              "</table>\n",
              "</div>"
            ],
            "text/plain": [
              "                             open    high     low   close\n",
              "date                                                     \n",
              "2016-07-05 00:00:00+00:00   94.99   98.79   94.99   98.79\n",
              "2016-07-15 00:00:00+00:00   98.78   99.96   98.66   98.66\n",
              "2016-07-25 00:00:00+00:00   97.34  106.05   96.67  105.79\n",
              "2016-08-04 00:00:00+00:00  105.87  108.81  105.87  108.18\n",
              "2016-08-14 00:00:00+00:00  109.48  109.48  108.51  108.85"
            ]
          },
          "metadata": {
            "tags": []
          },
          "execution_count": 15
        }
      ]
    },
    {
      "cell_type": "code",
      "metadata": {
        "colab": {
          "base_uri": "https://localhost:8080/",
          "height": 817
        },
        "id": "ZfYl3Qf5Hokb",
        "outputId": "26d09104-b7c0-45a6-d1c1-944cd3734b8c"
      },
      "source": [
        "### Creating a candlestick Graph\n",
        "candlestick = go.Candlestick(\n",
        "                            x=df_oh.index,\n",
        "                            high=df_oh['high'],\n",
        "                            low=df_oh['low'],\n",
        "                            open=df_oh['open'],\n",
        "                            close=df_oh['close']\n",
        "                            )\n",
        "\n",
        "fig = go.Figure(data=[candlestick])\n",
        "\n",
        "fig.update_layout(\n",
        "    width=800, height=800,\n",
        "    title=\"Apple, March - 2020\",\n",
        "    yaxis_title='AAPL Stock'\n",
        ")\n",
        "\n",
        "fig.show()"
      ],
      "execution_count": 18,
      "outputs": [
        {
          "output_type": "display_data",
          "data": {
            "text/html": [
              "<html>\n",
              "<head><meta charset=\"utf-8\" /></head>\n",
              "<body>\n",
              "    <div>\n",
              "            <script src=\"https://cdnjs.cloudflare.com/ajax/libs/mathjax/2.7.5/MathJax.js?config=TeX-AMS-MML_SVG\"></script><script type=\"text/javascript\">if (window.MathJax) {MathJax.Hub.Config({SVG: {font: \"STIX-Web\"}});}</script>\n",
              "                <script type=\"text/javascript\">window.PlotlyConfig = {MathJaxConfig: 'local'};</script>\n",
              "        <script src=\"https://cdn.plot.ly/plotly-latest.min.js\"></script>    \n",
              "            <div id=\"4d419907-7938-4d30-a2c1-06bb155cd789\" class=\"plotly-graph-div\" style=\"height:800px; width:800px;\"></div>\n",
              "            <script type=\"text/javascript\">\n",
              "                \n",
              "                    window.PLOTLYENV=window.PLOTLYENV || {};\n",
              "                    \n",
              "                if (document.getElementById(\"4d419907-7938-4d30-a2c1-06bb155cd789\")) {\n",
              "                    Plotly.newPlot(\n",
              "                        '4d419907-7938-4d30-a2c1-06bb155cd789',\n",
              "                        [{\"close\": [98.79, 98.66, 105.79, 108.18, 108.85, 107.73, 105.44, 114.62, 113.05, 117.34, 116.6, 111.49, 108.43, 111.73, 109.49, 113.95, 117.06, 115.82, 119.11, 120.0, 121.63, 132.42, 135.72, 139.79, 139.14, 139.84, 143.66, 143.17, 142.44, 143.65, 153.26, 153.06, 153.67, 148.98, 146.34, 143.68, 144.18, 151.02, 149.5, 160.08, 157.5, 161.47, 161.26, 159.88, 154.23, 155.3, 160.47, 163.05, 174.25, 171.1, 174.97, 169.01, 173.97, 170.57, 175.0, 177.09, 171.11, 160.5, 167.37, 175.5, 176.67, 178.02, 172.77, 172.8, 174.73, 163.65, 183.83, 186.44, 188.58, 191.83, 190.8, 184.92, 183.92, 191.33, 193.0, 207.99, 208.87, 215.49, 227.63, 221.07, 217.66, 229.28, 222.11, 220.65, 222.22, 204.47, 176.78, 178.58, 168.63, 150.73, 157.74, 153.8, 156.82, 165.25, 170.41, 170.93, 174.97, 178.9, 195.09, 189.95, 200.62, 203.86, 200.67, 197.18, 183.09, 178.3, 190.15, 197.87, 197.92, 201.24, 202.59, 209.68, 203.43, 206.5, 205.53, 213.26, 220.7, 218.82, 227.06, 235.28, 246.58, 257.24, 265.76, 264.29, 270.71, 279.86, 289.91, 297.43, 311.34, 318.31, 318.85, 324.95, 298.18, 292.92, 277.97, 245.52, 241.41, 287.05, 282.97, 293.16, 309.54, 318.89, 325.12, 338.8, 366.53, 364.11, 381.91, 371.38, 425.04, 452.04, 497.48, 134.18, 112.0, 110.08, 116.79, 116.97, 116.87, 108.86, 115.97, 117.34, 119.05, 123.24, 126.655, 133.72, 132.05, 127.83, 131.96, 136.91, 129.71, 121.26, 119.98, 119.99, 119.9, 132.995, 134.84, 133.48, 130.21, 124.69, 124.61, 126.74, 130.46, 134.78, 139.96], \"high\": [98.79, 99.96, 106.05, 108.81, 109.48, 108.03, 108.36, 115.57, 113.95, 117.34, 117.63, 118.25, 111.59, 111.73, 111.8, 113.95, 117.06, 117.26, 119.11, 120.0, 121.95, 132.42, 135.72, 139.79, 139.78, 141.46, 144.12, 144.77, 142.44, 144.53, 153.99, 156.1, 153.99, 155.45, 146.59, 146.28, 144.18, 151.02, 153.46, 160.08, 161.6, 161.47, 164.05, 161.5, 158.73, 155.39, 160.47, 163.05, 174.25, 176.24, 174.97, 174.09, 173.97, 176.42, 175.0, 177.09, 179.26, 171.51, 167.37, 175.5, 178.97, 181.72, 175.3, 172.8, 174.73, 178.24, 183.83, 190.04, 188.58, 191.83, 193.98, 188.84, 187.18, 191.33, 193.0, 207.99, 209.07, 217.58, 227.63, 228.36, 226.41, 229.28, 232.07, 222.15, 222.73, 209.95, 194.17, 180.94, 184.82, 170.95, 157.74, 157.92, 156.82, 165.25, 174.24, 170.93, 174.97, 178.9, 195.09, 191.05, 200.62, 203.86, 207.48, 211.75, 190.92, 186.6, 190.15, 198.45, 199.8, 204.41, 205.66, 209.68, 213.04, 208.97, 212.64, 213.28, 223.59, 222.77, 227.06, 236.21, 246.58, 257.5, 265.76, 267.1, 270.71, 279.86, 289.91, 300.35, 316.96, 319.23, 324.34, 327.2, 323.62, 302.74, 289.03, 252.86, 258.44, 287.05, 286.69, 293.8, 315.01, 319.23, 325.12, 352.84, 366.53, 364.84, 383.68, 393.43, 425.04, 455.61, 497.48, 506.09, 131.4, 115.54, 116.79, 116.97, 124.4, 116.6, 119.03, 120.3, 119.05, 124.38, 128.7, 136.69, 132.69, 130.89, 143.16, 137.39, 136.01, 129.87, 127.79, 125.57, 123.39, 132.995, 134.84, 134.72, 132.54, 127.45, 127.31, 126.74, 131.79, 134.78, 139.96], \"low\": [94.99, 98.66, 96.67, 105.87, 108.51, 106.0, 103.13, 107.95, 112.18, 112.52, 116.6, 111.49, 107.79, 105.71, 109.49, 109.11, 113.3, 115.82, 116.02, 119.04, 119.97, 121.35, 132.12, 136.53, 138.68, 138.99, 140.64, 143.17, 140.68, 142.27, 146.53, 150.25, 153.34, 148.98, 142.27, 143.68, 142.73, 145.06, 149.5, 148.73, 155.32, 157.21, 161.26, 158.28, 150.55, 153.28, 155.84, 155.98, 166.72, 169.08, 169.98, 169.01, 169.32, 170.57, 169.23, 174.29, 171.11, 160.5, 155.15, 171.07, 175.0, 175.03, 164.94, 166.48, 168.38, 162.94, 162.32, 185.16, 186.31, 186.87, 190.7, 184.92, 182.17, 185.4, 190.4, 189.91, 207.11, 209.75, 216.16, 218.33, 217.66, 220.42, 214.45, 216.02, 212.24, 201.59, 176.78, 172.29, 168.49, 150.73, 146.83, 142.19, 150.0, 152.7, 166.44, 169.43, 171.06, 172.5, 180.91, 186.79, 191.24, 198.87, 200.67, 197.18, 183.09, 177.38, 173.3, 192.58, 195.57, 200.02, 201.75, 207.02, 193.34, 200.48, 202.64, 205.7, 214.17, 217.68, 218.96, 224.4, 236.41, 243.26, 259.43, 261.78, 259.45, 266.92, 279.44, 289.8, 298.39, 315.24, 308.66, 319.61, 298.18, 273.36, 248.23, 224.37, 240.91, 259.43, 268.37, 278.58, 297.56, 307.71, 316.73, 322.32, 342.99, 353.63, 372.69, 371.38, 370.46, 435.75, 458.43, 129.04, 112.0, 106.84, 107.12, 113.02, 115.98, 108.86, 108.77, 117.34, 113.85, 121.78, 121.78, 128.23, 126.6, 127.14, 131.96, 133.94, 129.71, 120.99, 116.36, 119.99, 119.9, 122.15, 131.24, 131.94, 127.85, 122.77, 124.61, 123.54, 126.11, 132.3, 136.33], \"open\": [94.99, 98.78, 97.34, 105.87, 109.48, 108.03, 107.7, 107.95, 112.71, 112.52, 116.98, 117.65, 111.59, 105.71, 111.8, 109.9, 113.3, 116.29, 116.15, 119.75, 120.08, 121.35, 132.12, 136.7, 138.96, 139.2, 141.42, 143.7, 141.63, 142.27, 146.58, 153.95, 153.99, 152.76, 145.42, 145.01, 144.02, 145.06, 150.34, 148.73, 161.059998, 157.21, 162.91, 158.63, 158.67, 153.28, 155.84, 159.76, 166.72, 174.81, 170.15, 174.09, 169.32, 176.42, 170.6, 174.35, 176.19, 171.51, 156.49, 172.99, 178.97, 175.03, 175.3, 168.34, 168.38, 175.82, 164.22, 185.16, 188.18, 187.9, 193.31, 188.84, 182.17, 185.4, 190.91, 194.82, 209.07, 209.75, 216.16, 228.36, 226.41, 220.79, 232.07, 217.36, 222.73, 207.48, 194.17, 172.29, 184.82, 169.1, 146.83, 157.92, 152.29, 153.3, 166.44, 169.43, 172.03, 175.85, 180.91, 191.05, 191.24, 198.95, 204.53, 210.52, 185.72, 186.6, 175.07, 192.58, 199.46, 201.55, 203.23, 207.22, 208.78, 200.99, 210.35, 209.01, 214.17, 222.77, 223.97, 224.4, 236.41, 249.05, 259.43, 267.1, 267.84, 266.92, 280.41, 289.8, 299.8, 315.24, 308.95, 321.45, 319.0, 288.08, 289.03, 242.21, 258.44, 262.47, 284.43, 283.17, 297.56, 307.71, 316.73, 322.32, 342.99, 360.06, 373.85, 388.23, 370.46, 435.75, 460.04, 503.43, 131.4, 115.355, 111.81, 113.02, 124.4, 115.75, 108.77, 119.49, 113.85, 122.72, 122.41, 128.23, 132.69, 128.98, 132.03, 134.14, 136.01, 129.87, 127.79, 121.96, 123.39, 122.15, 131.24, 133.11, 131.46, 126.85, 127.31, 124.28, 127.13, 132.3, 136.33], \"type\": \"candlestick\", \"x\": [\"2016-07-05T00:00:00+00:00\", \"2016-07-15T00:00:00+00:00\", \"2016-07-25T00:00:00+00:00\", \"2016-08-04T00:00:00+00:00\", \"2016-08-14T00:00:00+00:00\", \"2016-08-24T00:00:00+00:00\", \"2016-09-03T00:00:00+00:00\", \"2016-09-13T00:00:00+00:00\", \"2016-09-23T00:00:00+00:00\", \"2016-10-03T00:00:00+00:00\", \"2016-10-13T00:00:00+00:00\", \"2016-10-23T00:00:00+00:00\", \"2016-11-02T00:00:00+00:00\", \"2016-11-12T00:00:00+00:00\", \"2016-11-22T00:00:00+00:00\", \"2016-12-02T00:00:00+00:00\", \"2016-12-12T00:00:00+00:00\", \"2016-12-22T00:00:00+00:00\", \"2017-01-01T00:00:00+00:00\", \"2017-01-11T00:00:00+00:00\", \"2017-01-21T00:00:00+00:00\", \"2017-01-31T00:00:00+00:00\", \"2017-02-10T00:00:00+00:00\", \"2017-02-20T00:00:00+00:00\", \"2017-03-02T00:00:00+00:00\", \"2017-03-12T00:00:00+00:00\", \"2017-03-22T00:00:00+00:00\", \"2017-04-01T00:00:00+00:00\", \"2017-04-11T00:00:00+00:00\", \"2017-04-21T00:00:00+00:00\", \"2017-05-01T00:00:00+00:00\", \"2017-05-11T00:00:00+00:00\", \"2017-05-21T00:00:00+00:00\", \"2017-05-31T00:00:00+00:00\", \"2017-06-10T00:00:00+00:00\", \"2017-06-20T00:00:00+00:00\", \"2017-06-30T00:00:00+00:00\", \"2017-07-10T00:00:00+00:00\", \"2017-07-20T00:00:00+00:00\", \"2017-07-30T00:00:00+00:00\", \"2017-08-09T00:00:00+00:00\", \"2017-08-19T00:00:00+00:00\", \"2017-08-29T00:00:00+00:00\", \"2017-09-08T00:00:00+00:00\", \"2017-09-18T00:00:00+00:00\", \"2017-09-28T00:00:00+00:00\", \"2017-10-08T00:00:00+00:00\", \"2017-10-18T00:00:00+00:00\", \"2017-10-28T00:00:00+00:00\", \"2017-11-07T00:00:00+00:00\", \"2017-11-17T00:00:00+00:00\", \"2017-11-27T00:00:00+00:00\", \"2017-12-07T00:00:00+00:00\", \"2017-12-17T00:00:00+00:00\", \"2017-12-27T00:00:00+00:00\", \"2018-01-06T00:00:00+00:00\", \"2018-01-16T00:00:00+00:00\", \"2018-01-26T00:00:00+00:00\", \"2018-02-05T00:00:00+00:00\", \"2018-02-15T00:00:00+00:00\", \"2018-02-25T00:00:00+00:00\", \"2018-03-07T00:00:00+00:00\", \"2018-03-17T00:00:00+00:00\", \"2018-03-27T00:00:00+00:00\", \"2018-04-06T00:00:00+00:00\", \"2018-04-16T00:00:00+00:00\", \"2018-04-26T00:00:00+00:00\", \"2018-05-06T00:00:00+00:00\", \"2018-05-16T00:00:00+00:00\", \"2018-05-26T00:00:00+00:00\", \"2018-06-05T00:00:00+00:00\", \"2018-06-15T00:00:00+00:00\", \"2018-06-25T00:00:00+00:00\", \"2018-07-05T00:00:00+00:00\", \"2018-07-15T00:00:00+00:00\", \"2018-07-25T00:00:00+00:00\", \"2018-08-04T00:00:00+00:00\", \"2018-08-14T00:00:00+00:00\", \"2018-08-24T00:00:00+00:00\", \"2018-09-03T00:00:00+00:00\", \"2018-09-13T00:00:00+00:00\", \"2018-09-23T00:00:00+00:00\", \"2018-10-03T00:00:00+00:00\", \"2018-10-13T00:00:00+00:00\", \"2018-10-23T00:00:00+00:00\", \"2018-11-02T00:00:00+00:00\", \"2018-11-12T00:00:00+00:00\", \"2018-11-22T00:00:00+00:00\", \"2018-12-02T00:00:00+00:00\", \"2018-12-12T00:00:00+00:00\", \"2018-12-22T00:00:00+00:00\", \"2019-01-01T00:00:00+00:00\", \"2019-01-11T00:00:00+00:00\", \"2019-01-21T00:00:00+00:00\", \"2019-01-31T00:00:00+00:00\", \"2019-02-10T00:00:00+00:00\", \"2019-02-20T00:00:00+00:00\", \"2019-03-02T00:00:00+00:00\", \"2019-03-12T00:00:00+00:00\", \"2019-03-22T00:00:00+00:00\", \"2019-04-01T00:00:00+00:00\", \"2019-04-11T00:00:00+00:00\", \"2019-04-21T00:00:00+00:00\", \"2019-05-01T00:00:00+00:00\", \"2019-05-11T00:00:00+00:00\", \"2019-05-21T00:00:00+00:00\", \"2019-05-31T00:00:00+00:00\", \"2019-06-10T00:00:00+00:00\", \"2019-06-20T00:00:00+00:00\", \"2019-06-30T00:00:00+00:00\", \"2019-07-10T00:00:00+00:00\", \"2019-07-20T00:00:00+00:00\", \"2019-07-30T00:00:00+00:00\", \"2019-08-09T00:00:00+00:00\", \"2019-08-19T00:00:00+00:00\", \"2019-08-29T00:00:00+00:00\", \"2019-09-08T00:00:00+00:00\", \"2019-09-18T00:00:00+00:00\", \"2019-09-28T00:00:00+00:00\", \"2019-10-08T00:00:00+00:00\", \"2019-10-18T00:00:00+00:00\", \"2019-10-28T00:00:00+00:00\", \"2019-11-07T00:00:00+00:00\", \"2019-11-17T00:00:00+00:00\", \"2019-11-27T00:00:00+00:00\", \"2019-12-07T00:00:00+00:00\", \"2019-12-17T00:00:00+00:00\", \"2019-12-27T00:00:00+00:00\", \"2020-01-06T00:00:00+00:00\", \"2020-01-16T00:00:00+00:00\", \"2020-01-26T00:00:00+00:00\", \"2020-02-05T00:00:00+00:00\", \"2020-02-15T00:00:00+00:00\", \"2020-02-25T00:00:00+00:00\", \"2020-03-06T00:00:00+00:00\", \"2020-03-16T00:00:00+00:00\", \"2020-03-26T00:00:00+00:00\", \"2020-04-05T00:00:00+00:00\", \"2020-04-15T00:00:00+00:00\", \"2020-04-25T00:00:00+00:00\", \"2020-05-05T00:00:00+00:00\", \"2020-05-15T00:00:00+00:00\", \"2020-05-25T00:00:00+00:00\", \"2020-06-04T00:00:00+00:00\", \"2020-06-14T00:00:00+00:00\", \"2020-06-24T00:00:00+00:00\", \"2020-07-04T00:00:00+00:00\", \"2020-07-14T00:00:00+00:00\", \"2020-07-24T00:00:00+00:00\", \"2020-08-03T00:00:00+00:00\", \"2020-08-13T00:00:00+00:00\", \"2020-08-23T00:00:00+00:00\", \"2020-09-02T00:00:00+00:00\", \"2020-09-12T00:00:00+00:00\", \"2020-09-22T00:00:00+00:00\", \"2020-10-02T00:00:00+00:00\", \"2020-10-12T00:00:00+00:00\", \"2020-10-22T00:00:00+00:00\", \"2020-11-01T00:00:00+00:00\", \"2020-11-11T00:00:00+00:00\", \"2020-11-21T00:00:00+00:00\", \"2020-12-01T00:00:00+00:00\", \"2020-12-11T00:00:00+00:00\", \"2020-12-21T00:00:00+00:00\", \"2020-12-31T00:00:00+00:00\", \"2021-01-10T00:00:00+00:00\", \"2021-01-20T00:00:00+00:00\", \"2021-01-30T00:00:00+00:00\", \"2021-02-09T00:00:00+00:00\", \"2021-02-19T00:00:00+00:00\", \"2021-03-01T00:00:00+00:00\", \"2021-03-11T00:00:00+00:00\", \"2021-03-21T00:00:00+00:00\", \"2021-03-31T00:00:00+00:00\", \"2021-04-10T00:00:00+00:00\", \"2021-04-20T00:00:00+00:00\", \"2021-04-30T00:00:00+00:00\", \"2021-05-10T00:00:00+00:00\", \"2021-05-20T00:00:00+00:00\", \"2021-05-30T00:00:00+00:00\", \"2021-06-09T00:00:00+00:00\", \"2021-06-19T00:00:00+00:00\", \"2021-06-29T00:00:00+00:00\"]}],\n",
              "                        {\"height\": 800, \"template\": {\"data\": {\"bar\": [{\"error_x\": {\"color\": \"#2a3f5f\"}, \"error_y\": {\"color\": \"#2a3f5f\"}, \"marker\": {\"line\": {\"color\": \"#E5ECF6\", \"width\": 0.5}}, \"type\": \"bar\"}], \"barpolar\": [{\"marker\": {\"line\": {\"color\": \"#E5ECF6\", \"width\": 0.5}}, \"type\": \"barpolar\"}], \"carpet\": [{\"aaxis\": {\"endlinecolor\": \"#2a3f5f\", \"gridcolor\": \"white\", \"linecolor\": \"white\", \"minorgridcolor\": \"white\", \"startlinecolor\": \"#2a3f5f\"}, \"baxis\": {\"endlinecolor\": \"#2a3f5f\", \"gridcolor\": \"white\", \"linecolor\": \"white\", \"minorgridcolor\": \"white\", \"startlinecolor\": \"#2a3f5f\"}, \"type\": \"carpet\"}], \"choropleth\": [{\"colorbar\": {\"outlinewidth\": 0, \"ticks\": \"\"}, \"type\": \"choropleth\"}], \"contour\": [{\"colorbar\": {\"outlinewidth\": 0, \"ticks\": \"\"}, \"colorscale\": [[0.0, \"#0d0887\"], [0.1111111111111111, \"#46039f\"], [0.2222222222222222, \"#7201a8\"], [0.3333333333333333, \"#9c179e\"], [0.4444444444444444, \"#bd3786\"], [0.5555555555555556, \"#d8576b\"], [0.6666666666666666, \"#ed7953\"], [0.7777777777777778, \"#fb9f3a\"], [0.8888888888888888, \"#fdca26\"], [1.0, \"#f0f921\"]], \"type\": \"contour\"}], \"contourcarpet\": [{\"colorbar\": {\"outlinewidth\": 0, \"ticks\": \"\"}, \"type\": \"contourcarpet\"}], \"heatmap\": [{\"colorbar\": {\"outlinewidth\": 0, \"ticks\": \"\"}, \"colorscale\": [[0.0, \"#0d0887\"], [0.1111111111111111, \"#46039f\"], [0.2222222222222222, \"#7201a8\"], [0.3333333333333333, \"#9c179e\"], [0.4444444444444444, \"#bd3786\"], [0.5555555555555556, \"#d8576b\"], [0.6666666666666666, \"#ed7953\"], [0.7777777777777778, \"#fb9f3a\"], [0.8888888888888888, \"#fdca26\"], [1.0, \"#f0f921\"]], \"type\": \"heatmap\"}], \"heatmapgl\": [{\"colorbar\": {\"outlinewidth\": 0, \"ticks\": \"\"}, \"colorscale\": [[0.0, \"#0d0887\"], [0.1111111111111111, \"#46039f\"], [0.2222222222222222, \"#7201a8\"], [0.3333333333333333, \"#9c179e\"], [0.4444444444444444, \"#bd3786\"], [0.5555555555555556, \"#d8576b\"], [0.6666666666666666, \"#ed7953\"], [0.7777777777777778, \"#fb9f3a\"], [0.8888888888888888, \"#fdca26\"], [1.0, \"#f0f921\"]], \"type\": \"heatmapgl\"}], \"histogram\": [{\"marker\": {\"colorbar\": {\"outlinewidth\": 0, \"ticks\": \"\"}}, \"type\": \"histogram\"}], \"histogram2d\": [{\"colorbar\": {\"outlinewidth\": 0, \"ticks\": \"\"}, \"colorscale\": [[0.0, \"#0d0887\"], [0.1111111111111111, \"#46039f\"], [0.2222222222222222, \"#7201a8\"], [0.3333333333333333, \"#9c179e\"], [0.4444444444444444, \"#bd3786\"], [0.5555555555555556, \"#d8576b\"], [0.6666666666666666, \"#ed7953\"], [0.7777777777777778, \"#fb9f3a\"], [0.8888888888888888, \"#fdca26\"], [1.0, \"#f0f921\"]], \"type\": \"histogram2d\"}], \"histogram2dcontour\": [{\"colorbar\": {\"outlinewidth\": 0, \"ticks\": \"\"}, \"colorscale\": [[0.0, \"#0d0887\"], [0.1111111111111111, \"#46039f\"], [0.2222222222222222, \"#7201a8\"], [0.3333333333333333, \"#9c179e\"], [0.4444444444444444, \"#bd3786\"], [0.5555555555555556, \"#d8576b\"], [0.6666666666666666, \"#ed7953\"], [0.7777777777777778, \"#fb9f3a\"], [0.8888888888888888, \"#fdca26\"], [1.0, \"#f0f921\"]], \"type\": \"histogram2dcontour\"}], \"mesh3d\": [{\"colorbar\": {\"outlinewidth\": 0, \"ticks\": \"\"}, \"type\": \"mesh3d\"}], \"parcoords\": [{\"line\": {\"colorbar\": {\"outlinewidth\": 0, \"ticks\": \"\"}}, \"type\": \"parcoords\"}], \"pie\": [{\"automargin\": true, \"type\": \"pie\"}], \"scatter\": [{\"marker\": {\"colorbar\": {\"outlinewidth\": 0, \"ticks\": \"\"}}, \"type\": \"scatter\"}], \"scatter3d\": [{\"line\": {\"colorbar\": {\"outlinewidth\": 0, \"ticks\": \"\"}}, \"marker\": {\"colorbar\": {\"outlinewidth\": 0, \"ticks\": \"\"}}, \"type\": \"scatter3d\"}], \"scattercarpet\": [{\"marker\": {\"colorbar\": {\"outlinewidth\": 0, \"ticks\": \"\"}}, \"type\": \"scattercarpet\"}], \"scattergeo\": [{\"marker\": {\"colorbar\": {\"outlinewidth\": 0, \"ticks\": \"\"}}, \"type\": \"scattergeo\"}], \"scattergl\": [{\"marker\": {\"colorbar\": {\"outlinewidth\": 0, \"ticks\": \"\"}}, \"type\": \"scattergl\"}], \"scattermapbox\": [{\"marker\": {\"colorbar\": {\"outlinewidth\": 0, \"ticks\": \"\"}}, \"type\": \"scattermapbox\"}], \"scatterpolar\": [{\"marker\": {\"colorbar\": {\"outlinewidth\": 0, \"ticks\": \"\"}}, \"type\": \"scatterpolar\"}], \"scatterpolargl\": [{\"marker\": {\"colorbar\": {\"outlinewidth\": 0, \"ticks\": \"\"}}, \"type\": \"scatterpolargl\"}], \"scatterternary\": [{\"marker\": {\"colorbar\": {\"outlinewidth\": 0, \"ticks\": \"\"}}, \"type\": \"scatterternary\"}], \"surface\": [{\"colorbar\": {\"outlinewidth\": 0, \"ticks\": \"\"}, \"colorscale\": [[0.0, \"#0d0887\"], [0.1111111111111111, \"#46039f\"], [0.2222222222222222, \"#7201a8\"], [0.3333333333333333, \"#9c179e\"], [0.4444444444444444, \"#bd3786\"], [0.5555555555555556, \"#d8576b\"], [0.6666666666666666, \"#ed7953\"], [0.7777777777777778, \"#fb9f3a\"], [0.8888888888888888, \"#fdca26\"], [1.0, \"#f0f921\"]], \"type\": \"surface\"}], \"table\": [{\"cells\": {\"fill\": {\"color\": \"#EBF0F8\"}, \"line\": {\"color\": \"white\"}}, \"header\": {\"fill\": {\"color\": \"#C8D4E3\"}, \"line\": {\"color\": \"white\"}}, \"type\": \"table\"}]}, \"layout\": {\"annotationdefaults\": {\"arrowcolor\": \"#2a3f5f\", \"arrowhead\": 0, \"arrowwidth\": 1}, \"coloraxis\": {\"colorbar\": {\"outlinewidth\": 0, \"ticks\": \"\"}}, \"colorscale\": {\"diverging\": [[0, \"#8e0152\"], [0.1, \"#c51b7d\"], [0.2, \"#de77ae\"], [0.3, \"#f1b6da\"], [0.4, \"#fde0ef\"], [0.5, \"#f7f7f7\"], [0.6, \"#e6f5d0\"], [0.7, \"#b8e186\"], [0.8, \"#7fbc41\"], [0.9, \"#4d9221\"], [1, \"#276419\"]], \"sequential\": [[0.0, \"#0d0887\"], [0.1111111111111111, \"#46039f\"], [0.2222222222222222, \"#7201a8\"], [0.3333333333333333, \"#9c179e\"], [0.4444444444444444, \"#bd3786\"], [0.5555555555555556, \"#d8576b\"], [0.6666666666666666, \"#ed7953\"], [0.7777777777777778, \"#fb9f3a\"], [0.8888888888888888, \"#fdca26\"], [1.0, \"#f0f921\"]], \"sequentialminus\": [[0.0, \"#0d0887\"], [0.1111111111111111, \"#46039f\"], [0.2222222222222222, \"#7201a8\"], [0.3333333333333333, \"#9c179e\"], [0.4444444444444444, \"#bd3786\"], [0.5555555555555556, \"#d8576b\"], [0.6666666666666666, \"#ed7953\"], [0.7777777777777778, \"#fb9f3a\"], [0.8888888888888888, \"#fdca26\"], [1.0, \"#f0f921\"]]}, \"colorway\": [\"#636efa\", \"#EF553B\", \"#00cc96\", \"#ab63fa\", \"#FFA15A\", \"#19d3f3\", \"#FF6692\", \"#B6E880\", \"#FF97FF\", \"#FECB52\"], \"font\": {\"color\": \"#2a3f5f\"}, \"geo\": {\"bgcolor\": \"white\", \"lakecolor\": \"white\", \"landcolor\": \"#E5ECF6\", \"showlakes\": true, \"showland\": true, \"subunitcolor\": \"white\"}, \"hoverlabel\": {\"align\": \"left\"}, \"hovermode\": \"closest\", \"mapbox\": {\"style\": \"light\"}, \"paper_bgcolor\": \"white\", \"plot_bgcolor\": \"#E5ECF6\", \"polar\": {\"angularaxis\": {\"gridcolor\": \"white\", \"linecolor\": \"white\", \"ticks\": \"\"}, \"bgcolor\": \"#E5ECF6\", \"radialaxis\": {\"gridcolor\": \"white\", \"linecolor\": \"white\", \"ticks\": \"\"}}, \"scene\": {\"xaxis\": {\"backgroundcolor\": \"#E5ECF6\", \"gridcolor\": \"white\", \"gridwidth\": 2, \"linecolor\": \"white\", \"showbackground\": true, \"ticks\": \"\", \"zerolinecolor\": \"white\"}, \"yaxis\": {\"backgroundcolor\": \"#E5ECF6\", \"gridcolor\": \"white\", \"gridwidth\": 2, \"linecolor\": \"white\", \"showbackground\": true, \"ticks\": \"\", \"zerolinecolor\": \"white\"}, \"zaxis\": {\"backgroundcolor\": \"#E5ECF6\", \"gridcolor\": \"white\", \"gridwidth\": 2, \"linecolor\": \"white\", \"showbackground\": true, \"ticks\": \"\", \"zerolinecolor\": \"white\"}}, \"shapedefaults\": {\"line\": {\"color\": \"#2a3f5f\"}}, \"ternary\": {\"aaxis\": {\"gridcolor\": \"white\", \"linecolor\": \"white\", \"ticks\": \"\"}, \"baxis\": {\"gridcolor\": \"white\", \"linecolor\": \"white\", \"ticks\": \"\"}, \"bgcolor\": \"#E5ECF6\", \"caxis\": {\"gridcolor\": \"white\", \"linecolor\": \"white\", \"ticks\": \"\"}}, \"title\": {\"x\": 0.05}, \"xaxis\": {\"automargin\": true, \"gridcolor\": \"white\", \"linecolor\": \"white\", \"ticks\": \"\", \"title\": {\"standoff\": 15}, \"zerolinecolor\": \"white\", \"zerolinewidth\": 2}, \"yaxis\": {\"automargin\": true, \"gridcolor\": \"white\", \"linecolor\": \"white\", \"ticks\": \"\", \"title\": {\"standoff\": 15}, \"zerolinecolor\": \"white\", \"zerolinewidth\": 2}}}, \"title\": {\"text\": \"Apple, March - 2020\"}, \"width\": 800, \"yaxis\": {\"title\": {\"text\": \"AAPL Stock\"}}},\n",
              "                        {\"responsive\": true}\n",
              "                    ).then(function(){\n",
              "                            \n",
              "var gd = document.getElementById('4d419907-7938-4d30-a2c1-06bb155cd789');\n",
              "var x = new MutationObserver(function (mutations, observer) {{\n",
              "        var display = window.getComputedStyle(gd).display;\n",
              "        if (!display || display === 'none') {{\n",
              "            console.log([gd, 'removed!']);\n",
              "            Plotly.purge(gd);\n",
              "            observer.disconnect();\n",
              "        }}\n",
              "}});\n",
              "\n",
              "// Listen for the removal of the full notebook cells\n",
              "var notebookContainer = gd.closest('#notebook-container');\n",
              "if (notebookContainer) {{\n",
              "    x.observe(notebookContainer, {childList: true});\n",
              "}}\n",
              "\n",
              "// Listen for the clearing of the current output cell\n",
              "var outputEl = gd.closest('.output');\n",
              "if (outputEl) {{\n",
              "    x.observe(outputEl, {childList: true});\n",
              "}}\n",
              "\n",
              "                        })\n",
              "                };\n",
              "                \n",
              "            </script>\n",
              "        </div>\n",
              "</body>\n",
              "</html>"
            ]
          },
          "metadata": {
            "tags": []
          }
        }
      ]
    }
  ]
}